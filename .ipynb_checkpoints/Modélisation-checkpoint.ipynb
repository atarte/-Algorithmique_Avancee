{
 "cells": [
  {
   "cell_type": "markdown",
   "id": "075f94c7",
   "metadata": {},
   "source": [
    "# Problème : Gestion de tournées de livraison"
   ]
  },
  {
   "cell_type": "markdown",
   "id": "0af16fb9",
   "metadata": {},
   "source": [
    "Données : Un graphe complet G arêtes-valué, une liste de sommet L, un entier k\n",
    "\n",
    "Question : Existe-t-il un cycle passant au moins une fois par chaque sommets de la liste dans G et dont la sommet des valeurs des arrêtes est au plus k ?"
   ]
  },
  {
   "attachments": {
    "graph-2.png": {
     "image/png": "[encoded data removed]"
    }
   },
   "cell_type": "markdown",
   "id": "671d1e59",
   "metadata": {},
   "source": [
    "![graph-2.png](attachment:graph-2.png)Graphe d'exemple pour le problème Gestion de tournées de livraison"
   ]
  },
  {
   "cell_type": "code",
   "execution_count": 1,
   "id": "ae39c5b1",
   "metadata": {},
   "outputs": [],
   "source": [
    "V = (0, 1, 2, 3, 4)\n",
    "E = (\n",
    "    (0, 1, 1, 0, 0),\n",
    "    (1, 0, 0, 0, 1),\n",
    "    (1, 0, 0, 1, 1),\n",
    "    (0, 0, 1, 0, 1),\n",
    "    (0, 1, 1, 1, 0),\n",
    ")\n",
    "L = (0, 1, 2, 3, 4)\n",
    "Cycle = (0, 1, 4, 3, 2, 0)"
   ]
  },
  {
   "cell_type": "markdown",
   "id": "23042f22",
   "metadata": {},
   "source": [
    "Nous allons ici cherché à déterminer si le problème __Gestion de tournées de livraison__ si trouve dans __NP-Complet__. Pour cela nous allons tout d'abbord pouver que ce problème ce trouve dans __NP__, puis nous pouverons qu'il se trouve également dans __NP-Difficile__."
   ]
  },
  {
   "cell_type": "markdown",
   "id": "85435770",
   "metadata": {},
   "source": [
    "Le problème est dans __NP__ car étant donné une suite de sommets, on peut vérifier en temps polynomial :"
   ]
  },
  {
   "cell_type": "markdown",
   "id": "71db7057",
   "metadata": {},
   "source": [
    "* Si cette suite de sommets est bien une cycle. Il vérifie qu’elle parcourt bien les sommets de proche en proche et que le sommet et départ et de fin soit les même. Cette vérification se fait en temps polynomial (Compléxité : O(N))."
   ]
  },
  {
   "cell_type": "code",
   "execution_count": 5,
   "id": "8cfa225d",
   "metadata": {},
   "outputs": [
    {
     "name": "stdout",
     "output_type": "stream",
     "text": [
      "This points follow a cycle\n"
     ]
    }
   ],
   "source": [
    "def Verification_Cycle(cycle): \n",
    "\n",
    "    for i in range(len(cycle)-1):\n",
    "        if cycle[i] == cycle[i+1]:\n",
    "            return False\n",
    "\n",
    "    if cycle[0] != cycle[len(cycle)-1]:\n",
    "        return False\n",
    "\n",
    "    return True\n",
    "\n",
    "Is_Cycle = Verification_Cycle(Cycle)\n",
    "\n",
    "if Is_Cycle:\n",
    "    print(\"This points follow a cycle\")\n",
    "else:\n",
    "    print(\"This points don't follow a cycle\")"
   ]
  },
  {
   "cell_type": "markdown",
   "id": "76150cc9",
   "metadata": {},
   "source": [
    "* S’il passe au moins une fois par chaque sommet défini dans la liste L. Cette vérification se fait en temps polynomial."
   ]
  },
  {
   "cell_type": "code",
   "execution_count": 13,
   "id": "133de977",
   "metadata": {},
   "outputs": [],
   "source": [
    "def Verification_Sommet(liste_sommets, L):\n",
    "\n",
    "    for i in range(len(liste_sommets)):\n",
    "        present = False\n",
    "\n",
    "        for j in range(len(L)):\n",
    "            if liste_sommets[i] == L[j]:\n",
    "                present = True\n",
    "\n",
    "#         if !present:\n",
    "            \n"
   ]
  },
  {
   "cell_type": "markdown",
   "id": "acde3afe",
   "metadata": {},
   "source": [
    "* Si son coût est inférieur à k. Il faut faire la somme des valeurs des arêtes parcourues par le cycle, et vérifier si cette somme est inférieure à k. Cette vérification se fait en temps polynomial."
   ]
  },
  {
   "cell_type": "code",
   "execution_count": 5,
   "id": "6a44958d",
   "metadata": {},
   "outputs": [],
   "source": [
    "def Verification_K(cycle, E, k):\n",
    "    sum_Arret = 0\n",
    "    \n",
    "    for i range(len(cycle)-1):\n",
    "        \n",
    "        \n",
    "        \n",
    "    return True"
   ]
  },
  {
   "cell_type": "markdown",
   "id": "89c0f7d1",
   "metadata": {},
   "source": [
    "Nous allons faire une réduction à partir du problème __Cycle Hamiltonien__. Etant donné que nous savons que le __Cycle Hamiltonien__ est NP-Complet, nous allons ici prouver que la __Gestion de tournées de livraison__ et au moins aussi difficile."
   ]
  },
  {
   "cell_type": "markdown",
   "id": "14beeeaa",
   "metadata": {},
   "source": [
    "Pour cela nous allons trouver un moyen de transformer, en temps polynomial, une instance de __Cycle Hamiltonien__ en instance de __Gestion de tournées de livraison__, de manière que les deux instances admettent la même réponse."
   ]
  },
  {
   "cell_type": "markdown",
   "id": "30146808",
   "metadata": {},
   "source": [
    "# IMG"
   ]
  },
  {
   "cell_type": "markdown",
   "id": "43320134",
   "metadata": {},
   "source": [
    "Soit __Ich__ une instance du problème __Cycle Hamiltonien__, constitué du graphe G=(V,E)."
   ]
  },
  {
   "cell_type": "markdown",
   "id": "dca163db",
   "metadata": {},
   "source": [
    "Soit __Igtl__ une instance du problème de __Gestion de tournées de livraison__ définie par :\n",
    "* Le graphe arête-valué G ’=(V, E(G)+E(G ̅), v : E(G )+E(G ̅) ↦ ℕ) avec v(u)=1 ∀ u ∈ E(G ) et v(u)=2 ∀ u ∈ E(G ̅)\n",
    "* La liste de de sommet L=V\n",
    "* L’entier k=|V |-1"
   ]
  },
  {
   "cell_type": "markdown",
   "id": "32b5a602",
   "metadata": {},
   "source": [
    "Cette instance se construit en temps polynomial : Rechercher toutes les combinaisons de sommets de L non présentes dans G se fait en O(|V |²)"
   ]
  },
  {
   "cell_type": "markdown",
   "id": "33840147",
   "metadata": {},
   "source": [
    "Supposons qu’il existe un algorithme résolvant le problème __Gestion de tournées de livraison__ en temps polynomial."
   ]
  },
  {
   "cell_type": "markdown",
   "id": "9ab2e758",
   "metadata": {},
   "source": [
    "En appliquant cet algorithme sur __Igtl__ :\n",
    "* Soit on obtient la réponse oui. Dans ce cas, on sait qu’il existe un cycle hamiltonien dans G. En effet, la solution de __Igtl__ est un cycle de longueur |V |-1 par construction de __Igtl__. Ce cycle ne peut passer que par des arêtes de G, puisque celles de G ̅ ont un cout de 2, la longueur de cette solution serait supérieure à |V |-1. Par ailleurs, cette solution ne passe qu’une seule fois par chaque sommet, car sinon sa longueur serait supérieure à |V |-1. De plus comme chacun des sommets du G se trouve dans la liste L et que ce cycle passe bien par chaque sommet de G, alors ce cycle passe par tous les sommets de la liste L. Ce cycle constitue donc un cycle hamiltonien dans G, la réponse à __Ich__ est donc oui.\n",
    "* Symétriquement, si la réponse est non, on en déduit qu’il n’existe pas de cycle hamiltonien dans G, car sinon il constituerait une solution à __Igtl__ et la réponse serait oui.\n"
   ]
  },
  {
   "cell_type": "markdown",
   "id": "5a3f4be7",
   "metadata": {},
   "source": [
    "On peut donc faire une réduction polynomial du problème __Cycle Hamiltonien__ vers le problème __Gestion de tournées de livraison__, ce qui prouve que __Gestion de tournées de livraison__ est au moins aussi difficile que __Cycle Hamiltonien__. Et comme on sait que __Cycle Hamiltonien__ est dans __NP-Complet__, alors on peut déterminer que __Gestion de tournées de livraison__ est dans __NP-Difficile__."
   ]
  },
  {
   "cell_type": "markdown",
   "id": "76d6d544",
   "metadata": {},
   "source": [
    "Enfin comme __Gestion de tournées de livraison__ se trouve à la fois dans __NP__ et dans __NP-Difficile__, peut en conclure qu’il se trouve à l’union des deux ensembles. Donc __Gestion de tournées de livraison__ se trouve dans __NP-Complet__."
   ]
  }
 ],
 "metadata": {
  "kernelspec": {
   "display_name": "Python 3 (ipykernel)",
   "language": "python",
   "name": "python3"
  },
  "language_info": {
   "codemirror_mode": {
    "name": "ipython",
    "version": 3
   },
   "file_extension": ".py",
   "mimetype": "text/x-python",
   "name": "python",
   "nbconvert_exporter": "python",
   "pygments_lexer": "ipython3",
   "version": "3.10.4"
  }
 },
 "nbformat": 4,
 "nbformat_minor": 5
}
