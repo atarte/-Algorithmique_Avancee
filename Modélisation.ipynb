{
 "cells": [
  {
   "cell_type": "markdown",
   "id": "d672154c",
   "metadata": {},
   "source": [
    "# Advanced Algorithmic : Deliverable 1"
   ]
  },
  {
   "cell_type": "markdown",
   "id": "6dfddfb3",
   "metadata": {},
   "source": [
    "Group 1 : Bruno Tom, Bruno Jean-Vincent, Silva Roriz Catarina, Tarte Antoine"
   ]
  },
  {
   "cell_type": "markdown",
   "id": "5237b095",
   "metadata": {},
   "source": [
    "## Introduction"
   ]
  },
  {
   "cell_type": "markdown",
   "id": "c7fad285",
   "metadata": {},
   "source": [
    "L'ADEME (Environment and Energy Management Agency) recently launched a call to promote the production of demonstrators and experiments for new mobility solutions for people and goods transport depending on the territories.We decide to respond to the ADEME's call and work on a solution for managing delivery rounds.\n",
    "\n",
    "The algorithm will calculate the shortest path for traveling between a set of cities, then come back to the starting point. This algorithm will include some constrain like :\n",
    "* The traffic between cities will depend on the time of the day\n",
    "* The number of trucks\n",
    "* Specific place to collect some objects\n",
    "* Time frame to deliver some objects"
   ]
  },
  {
   "cell_type": "markdown",
   "id": "24478446",
   "metadata": {},
   "source": [
    "In this document we are going to study our problem and determine its complexity before developing it.\n",
    "\n",
    "First we are going to define precisely what is our problem and its different constrain. After that we are going to study the complexity of our problem with and without its constrains. Then we are going to talk about how we are going to present our graph data for the algorithm. Finaly, we are going to talk about the optimisation that we plan to do with the algorithm."
   ]
  },
  {
   "cell_type": "markdown",
   "id": "56ea0f40",
   "metadata": {},
   "source": [
    "## Problem presentation"
   ]
  },
  {
   "cell_type": "markdown",
   "id": "c66cedde",
   "metadata": {},
   "source": [
    "During this study we will first present our basic algorithm in the simplest way, i.e., the delivery truck passes through each city only once.\n",
    "\n",
    "This algorithm will have a set of vertex that will be linked together. The algorithm will have for mission to connect a subset of vertex which will correspond to the cities concerned by a delivery passing by the shortest way and while returning to its starting point.\n",
    "\n",
    "For our initial algorithm the problem is therefore :\n",
    "> What is the shortest cycle passing only once through each vertex of the list L in G?"
   ]
  },
  {
   "cell_type": "markdown",
   "id": "22b8492d",
   "metadata": {},
   "source": [
    "Then, we will add some constraints:\n",
    "- Time limit for the delivery of each object \n",
    "    * with delivery forbidden if outside this window \n",
    "    * or waiting time for the window to open\n",
    "- Simultaneous delivery with k trucks.\n",
    "    * Capacity of the trucks (2 or 3 sizes) and the size of the objects\n",
    "    * Some objects can only be delivered by certain trucks\n",
    "- Each object has a specific collection location\n",
    "- Consideration of road traffic (travel time) by varying the length of the stops"
   ]
  },
  {
   "cell_type": "markdown",
   "id": "434bc801",
   "metadata": {},
   "source": [
    "## Study of the complexity of the problem"
   ]
  },
  {
   "cell_type": "markdown",
   "id": "075f94c7",
   "metadata": {},
   "source": [
    "### Problem 1 : Delivery rounds management"
   ]
  },
  {
   "cell_type": "markdown",
   "id": "ff1d2890",
   "metadata": {},
   "source": [
    "> __Delivery rounds management__\n",
    "> \n",
    "> Data: A complete graph G edge-valued, a list of vertexes L\n",
    "> \n",
    "> Question : What is the shortest cycle passing only once through each vertex of the list L in G ?"
   ]
  },
  {
   "cell_type": "markdown",
   "id": "f3f5ac11",
   "metadata": {},
   "source": [
    "Here we will try to determine if the problem __Delivery rounds management__ is in __NP-Difficult__. For that we will prove that its decision problem of __Delivery rounds management__ is in __NP-Complete__."
   ]
  },
  {
   "cell_type": "markdown",
   "id": "1eee6b6a",
   "metadata": {},
   "source": [
    "1. __Study of the decision problem__"
   ]
  },
  {
   "cell_type": "markdown",
   "id": "0af16fb9",
   "metadata": {},
   "source": [
    "First of all, we start by defining what our decision problem is:\n",
    "\n",
    "> __Verification of delivery rounds management__\n",
    "> \n",
    "> Data: A complete edge-valued graph G, a list of vertexes L, an integer k\n",
    "> \n",
    "> Question : Is there a cycle passing only once through each vertex of the list L in G and whose sum of the values of the edges its maximum k ?"
   ]
  },
  {
   "attachments": {
    "graph-2.png": {
     "image/png": "[encoded data removed]"
    }
   },
   "cell_type": "markdown",
   "id": "671d1e59",
   "metadata": {},
   "source": [
    "![graph-2.png](attachment:graph-2.png)\n",
    "Example graph for the problem __Verification of delivery rounds management__."
   ]
  },
  {
   "cell_type": "code",
   "execution_count": 1,
   "id": "ae39c5b1",
   "metadata": {},
   "outputs": [],
   "source": [
    "V = (0, 1, 2, 3, 4)\n",
    "E = (\n",
    "    (0, 1, 1, 0, 0),\n",
    "    (1, 0, 0, 0, 1),\n",
    "    (1, 0, 0, 1, 1),\n",
    "    (0, 0, 1, 0, 1),\n",
    "    (0, 1, 1, 1, 0),\n",
    ")\n",
    "L = (0, 1, 2, 3, 4)\n",
    "Cycle = (0, 1, 4, 3, 2, 0)"
   ]
  },
  {
   "cell_type": "markdown",
   "id": "23042f22",
   "metadata": {},
   "source": [
    "Here we will try to determine if the problem __Verification of delivery rounds management__ is in __NP-Complete__. For that we will first prove that the verification of this problem is in __NP__, then we will prove that this problem is in __NP-Difficult__."
   ]
  },
  {
   "cell_type": "markdown",
   "id": "85435770",
   "metadata": {},
   "source": [
    "The problem is in __NP__ because given a sequence of vertexes, we can check in polynomial time :"
   ]
  },
  {
   "cell_type": "markdown",
   "id": "71db7057",
   "metadata": {},
   "source": [
    "* That this sequence of vertexes is indeed a cycle (Complexity : O(N))."
   ]
  },
  {
   "cell_type": "code",
   "execution_count": 2,
   "id": "8cfa225d",
   "metadata": {},
   "outputs": [
    {
     "name": "stdout",
     "output_type": "stream",
     "text": [
      "This points follow a cycle\n"
     ]
    }
   ],
   "source": [
    "def Verification_Cycle(cycle): \n",
    "\n",
    "    for i in range(len(cycle)-1):\n",
    "        if cycle[i] == cycle[i+1]:\n",
    "            return False\n",
    "\n",
    "    if cycle[0] != cycle[len(cycle)-1]:\n",
    "        return False\n",
    "\n",
    "    return True\n",
    "\n",
    "Is_Cycle = Verification_Cycle(Cycle)\n",
    "\n",
    "if Is_Cycle:\n",
    "    print(\"This points follow a cycle\")\n",
    "else:\n",
    "    print(\"This points don't follow a cycle\")"
   ]
  },
  {
   "cell_type": "markdown",
   "id": "76150cc9",
   "metadata": {},
   "source": [
    "* That this sequence of vertexes passes only once through each vertex of the list L (Complexity: O(N²))."
   ]
  },
  {
   "cell_type": "code",
   "execution_count": 3,
   "id": "133de977",
   "metadata": {},
   "outputs": [
    {
     "name": "stdout",
     "output_type": "stream",
     "text": [
      "This cycle pass through all vertexs defined in the liste L at least once\n"
     ]
    }
   ],
   "source": [
    "def Verification_Vertex(cycle, L):\n",
    "    Remaining_Vertex = list(L)\n",
    "\n",
    "    for i in range(len(cycle)):\n",
    "        for j in range(len(Remaining_Vertex)):\n",
    "            if cycle[i] == Remaining_Vertex[j]:\n",
    "                Remaining_Vertex.pop(j)\n",
    "                break\n",
    "                \n",
    "    if len(Remaining_Vertex) == 0:\n",
    "        return True\n",
    "    \n",
    "    return False\n",
    "\n",
    "Pass_All_Vertex = Verification_Vertex(Cycle, L)\n",
    "\n",
    "if Pass_All_Vertex:\n",
    "    print(\"This cycle pass through all vertexs defined in the liste L at least once\")\n",
    "else:\n",
    "    print(\"This cycle don't pass through all vertexs defined in the liste L at least once\")"
   ]
  },
  {
   "cell_type": "markdown",
   "id": "acde3afe",
   "metadata": {},
   "source": [
    "* That the cost of the sequence is under k (Complexity: O(N))."
   ]
  },
  {
   "cell_type": "code",
   "execution_count": 6,
   "id": "6a44958d",
   "metadata": {},
   "outputs": [
    {
     "name": "stdout",
     "output_type": "stream",
     "text": [
      "Cycle cost is under k\n"
     ]
    }
   ],
   "source": [
    "def Verification_K(cycle, E, k):\n",
    "    sum_Edge = 0\n",
    "    \n",
    "    for i in range(len(cycle)-1):\n",
    "        sum_Edge += E[cycle[i]][cycle[i+1]]\n",
    "    \n",
    "    if sum_Edge < k:\n",
    "        return True\n",
    "    else:\n",
    "        return False\n",
    "    \n",
    "k = 6\n",
    "Its_Lower = Verification_K(Cycle, E, k)\n",
    "\n",
    "if Its_Lower:\n",
    "    print(\"Cycle cost is under k\")\n",
    "else:\n",
    "    print(\"Cycle cost is over k\")"
   ]
  },
  {
   "cell_type": "markdown",
   "id": "89c0f7d1",
   "metadata": {},
   "source": [
    "We will make a reduction from the __Hamiltonian Cycle__ problem. Since we know that the __Hamiltonian Cycle__ is __NP-Complete__, we will prove here that the __Verification of delivery round management__ is at least as difficult.\n",
    "\n",
    "To do so, we will find a way to transform, in polynomial time, an instance of __Hamiltonian Cycle__ into an instance of __Verification of delivery round management__, so that both instances admit the same answer."
   ]
  },
  {
   "attachments": {
    "graph2.png": {
     "image/png": "[encoded data removed]"
    }
   },
   "cell_type": "markdown",
   "id": "30146808",
   "metadata": {},
   "source": [
    "![graph2.png](attachment:graph2.png)\n",
    "\n",
    "Example graph for the problem __Verification of delivery round management__ and the __Hamiltonian Cycle__."
   ]
  },
  {
   "cell_type": "markdown",
   "id": "43320134",
   "metadata": {},
   "source": [
    "__Ihc__ is an instance of __Hamiltonian Cycle__, consisting of the graph G=(V,E)."
   ]
  },
  {
   "cell_type": "markdown",
   "id": "dca163db",
   "metadata": {},
   "source": [
    "__Ivdrm__ is an instance of __Verification of delivery round management__ defined by:\n",
    "* The edge-valued graph G '=(V, E(G )+E(G ̅), v : E(G )+E(G ̅) ↦ ℕ) with v(u)=1 ∀ u ∈ E(G ) and v(u)=2 ∀ u ∈ E(G ̅)\n",
    "* The list of vertexes L=V\n",
    "* The integer k=|V |-1"
   ]
  },
  {
   "cell_type": "markdown",
   "id": "32b5a602",
   "metadata": {},
   "source": [
    "The instance __Ihc__ is built in polynomial time: Finding all combinations of vertexes of L not present in G is done in O(|V |²)\n",
    "\n",
    "Suppose that there exists an algorithm solving the problem __Verification of delivery round management__ in polynomial time."
   ]
  },
  {
   "cell_type": "markdown",
   "id": "9ab2e758",
   "metadata": {},
   "source": [
    "By applying this algorithm on __Ivdrm__ :\n",
    "* Either we get the answer yes, the length of the cycle is less than k. In this case, we know that there is a Hamiltonian cycle in G. Indeed, the solution of __Ivdrm__ is a cycle of length |V |-1 by construction of __Ivdrm__. This cycle can only pass through edges of G, since those of G ̅ have cost 2, the length of this solution would be greater than |V |-1. Moreover, this solution passes only once through each vertex, since otherwise its length would be greater than |V |-1. Furthermore, since each vertex of G is in the list L and this cycle passes through each vertex of G, then this cycle passes through all the vertexes of the list L. This cycle is therefore a Hamiltonian cycle in G, so the answer to __Ihc__ is yes.\n",
    "* Symmetrically, if the answer is no, we deduce that there is no Hamiltonian cycle in G, because otherwise it would constitute a solution to __Ivdrm__ and the answer would be yes."
   ]
  },
  {
   "cell_type": "markdown",
   "id": "5a3f4be7",
   "metadata": {},
   "source": [
    "Thus, we can do a polynomial reduction from the __Hamiltonian Cycle__ to the __Verification of delivery round management__, which proves that __Verification of delivery round management__ is at least as difficult as __Hamiltonian Cycle__. And since we know that __Hamiltonian Cycle__ is in __NP-Complete__, then we can determine that __Delivery Route Management Verification__ is in __NP-Difficult__.\n",
    "\n",
    "Finally as __Verification of delivery round management__ is in both __NP__ and __NP-Difficult__, we can conclude that it is at the union of both sets. So __Verification of delivery round management__ is in __NP-Complete__."
   ]
  },
  {
   "cell_type": "markdown",
   "id": "7144ac93",
   "metadata": {},
   "source": [
    "2. __Conclusion__"
   ]
  },
  {
   "cell_type": "markdown",
   "id": "dd736a26",
   "metadata": {},
   "source": [
    "We have seen that the verification of our problem is not solvable in polynomial time. We can therefore deduce that __Delivery rounds management__ is not solvable in polynomial time, and therefore is in __NP-Difficult__."
   ]
  },
  {
   "cell_type": "markdown",
   "id": "822ad979",
   "metadata": {},
   "source": [
    "### Problem 2 :"
   ]
  },
  {
   "cell_type": "markdown",
   "id": "5b4b0087",
   "metadata": {},
   "source": [
    "### Problem 3 : ..."
   ]
  },
  {
   "cell_type": "markdown",
   "id": "381d0c1b",
   "metadata": {},
   "source": [
    "## Formal presentation of data"
   ]
  },
  {
   "cell_type": "markdown",
   "id": "4c4ad48a",
   "metadata": {},
   "source": [
    "For representing graph in our algorithm we are going to use an adjacency matrix, but not a normal one. For creating our graph, we decide to ban loop and multiple edge between two point, because went you seach the shortest path between two point a loop will always add useless length, and between multipule path we will always pick the shortest. \n",
    "\n",
    "So because of this simplification, insted of counting the number of connection between vertexs (because it will always be 1) inside the matrix, we will put the weight of this connection. And when there is no connectoin, the value will be 0."
   ]
  },
  {
   "attachments": {
    "matrix.png": {
     "image/png": "[encoded data removed]"
    }
   },
   "cell_type": "markdown",
   "id": "211767e8",
   "metadata": {},
   "source": [
    "![matrix.png](attachment:matrix.png)\n",
    "Exemple Graph"
   ]
  },
  {
   "cell_type": "markdown",
   "id": "1f29a906",
   "metadata": {},
   "source": [
    "So the matrix will look like this for this exemple graph."
   ]
  },
  {
   "cell_type": "code",
   "execution_count": 10,
   "id": "aa0a21e9",
   "metadata": {},
   "outputs": [],
   "source": [
    "matrix = (\n",
    "    (0, 2, 0, 0, 0, 0, 3),\n",
    "    (2, 0, 4, 1, 0, 0, 2),\n",
    "    (0, 4, 0, 3, 4, 0, 0),\n",
    "    (0, 1, 3, 0, 3, 5, 1),\n",
    "    (0, 1, 5, 3, 0, 1, 2),\n",
    "    (0, 0, 0, 5, 1, 0, 1),\n",
    "    (3, 2, 0, 1, 2, 5, 0),\n",
    ")"
   ]
  },
  {
   "cell_type": "markdown",
   "id": "8c12d61e",
   "metadata": {},
   "source": [
    "## Operational research"
   ]
  },
  {
   "cell_type": "markdown",
   "id": "1ee39267",
   "metadata": {},
   "source": [
    "Intro"
   ]
  },
  {
   "cell_type": "markdown",
   "id": "a9357173",
   "metadata": {},
   "source": [
    "### Problem modeling"
   ]
  },
  {
   "cell_type": "markdown",
   "id": "437338b4",
   "metadata": {},
   "source": [
    "1. __Program decision variables__"
   ]
  },
  {
   "cell_type": "markdown",
   "id": "b073824e",
   "metadata": {},
   "source": [
    "The program decision variable is :<br>\n",
    "    \n",
    " $$X_{i,R} \\text {: State matrix} $$<br>"
   ]
  },
  {
   "cell_type": "markdown",
   "id": "fa761b5b",
   "metadata": {},
   "source": [
    "2. __Objective function__"
   ]
  },
  {
   "cell_type": "markdown",
   "id": "0da9e20a",
   "metadata": {},
   "source": [
    "The objective function is:\n",
    "    $$Min: \\sum_{n=1,m=1}^{i,j} M_{n,m} \\sum_{r=1}^P X_{n,r}X_{m,r+1} $$ "
   ]
  },
  {
   "cell_type": "markdown",
   "id": "4d5a7e6c",
   "metadata": {},
   "source": [
    "3. __Program Constraints__"
   ]
  },
  {
   "cell_type": "markdown",
   "id": "1e6d1df6",
   "metadata": {},
   "source": []
  },
  {
   "cell_type": "markdown",
   "id": "033ab498",
   "metadata": {},
   "source": [
    "Thus the constrains are : \n",
    "    $$C.S:\\left\\{\n",
    "    \\begin{array}{ll}\n",
    "        \\sum_{c=1}^i X_{cp} = 1 \\space \\forall \\text{ } p \\\\ \n",
    "        \\sum_{p=1}Pi X_{cp} \\geq 1 \\space \\forall \\text{ } c \\\\\n",
    "        \\prod_{r=1}^P \\sum_{n=1,m=1}^{i,j} M_{n,m} * X_{n,r}X_{m,r+1} \\gt 0 \\\\\n",
    "        X_{c1} = X_{cP} \\text{ } \\forall \\text{ } c \\in [1,i] \\\\\n",
    "        X_{c,p} \\in {0,1} \\text{ } \\forall \\text{ } c,p \\in [1,i]\n",
    "    \\end{array}\n",
    "\\right.$$\n",
    "\n",
    "With : \n",
    "$$\n",
    "i:\\text{ Number of vertexes}\\\\\n",
    "P:\\text{ Solution state number}\\\\\n",
    "i = j \\\\\n",
    "M_ij :\\text{ Weight matrix of the situation}\n",
    "$$"
   ]
  },
  {
   "cell_type": "markdown",
   "id": "f524b097",
   "metadata": {},
   "source": [
    "### Résolution linéaire ???"
   ]
  },
  {
   "cell_type": "markdown",
   "id": "35beccd8",
   "metadata": {},
   "source": [
    "### Résolution méta heuristique ???"
   ]
  },
  {
   "cell_type": "markdown",
   "id": "f482c93b",
   "metadata": {},
   "source": [
    "## Conclusion"
   ]
  },
  {
   "cell_type": "markdown",
   "id": "a616b63d",
   "metadata": {},
   "source": [
    "conclusion"
   ]
  },
  {
   "cell_type": "markdown",
   "id": "563bdcf3",
   "metadata": {},
   "source": [
    "## bibliography"
   ]
  }
 ],
 "metadata": {
  "interpreter": {
   "hash": "7f1f8ce21646b000042b002f1e6b4bc353bfed33ad1fcf79951c0bf77801bbf4"
  },
  "kernelspec": {
   "display_name": "Python 3 (ipykernel)",
   "language": "python",
   "name": "python3"
  },
  "language_info": {
   "codemirror_mode": {
    "name": "ipython",
    "version": 3
   },
   "file_extension": ".py",
   "mimetype": "text/x-python",
   "name": "python",
   "nbconvert_exporter": "python",
   "pygments_lexer": "ipython3",
   "version": "3.10.5"
  }
 },
 "nbformat": 4,
 "nbformat_minor": 5
}
