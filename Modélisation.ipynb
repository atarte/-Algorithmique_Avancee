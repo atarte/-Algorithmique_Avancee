{
 "cells": [
  {
   "cell_type": "markdown",
   "id": "d672154c",
   "metadata": {},
   "source": [
    "# Advanced Algorithmic : Deliverable 1"
   ]
  },
  {
   "cell_type": "markdown",
   "id": "6dfddfb3",
   "metadata": {},
   "source": [
    "Group 1 : Bruno Tom, Bruno Jean-Vincent, Silva Roriz Catarina, Tarte Antoine"
   ]
  },
  {
   "cell_type": "markdown",
   "id": "5237b095",
   "metadata": {},
   "source": [
    "## Introduction"
   ]
  },
  {
   "cell_type": "markdown",
   "id": "c7fad285",
   "metadata": {},
   "source": [
    "L'ADEME (Environment and Energy Management Agency) recently launched a call to promote the production of demonstrators and experiments for new mobility solutions for people and goods transport depending on the territories.We decide to respond to the ADEME's call and work on a solution for managing delivery rounds.\n",
    "\n",
    "The algorithm will calculate the shortest path for traveling between a set of cities, then come back to the starting point. This algorithm will include some constrain like :\n",
    "* The traffic between cities will depend on the time of the day\n",
    "* The number of trucks\n",
    "* Specific place to collect some objects\n",
    "* Time frame to deliver some objects"
   ]
  },
  {
   "cell_type": "markdown",
   "id": "24478446",
   "metadata": {},
   "source": [
    "In this document we are going to study our problem and determine its complexity before developing it.\n",
    "\n",
    "First we are going to define precisely what is our problem and its different constrain. After that we are going to study the complexity of our problem with and without its constrains. Then we are going to talk about how we are going to present our graph data for the algorithm. Finaly, we are going to talk about the optimisation that we plan to do with the algorithm."
   ]
  },
  {
   "cell_type": "markdown",
   "id": "56ea0f40",
   "metadata": {},
   "source": [
    "## Problem presentation"
   ]
  },
  {
   "cell_type": "markdown",
   "id": "c66cedde",
   "metadata": {},
   "source": [
    "During this study we will first present our basic algorithm in the simplest way, i.e., the delivery truck passes through each city at least once.\n",
    "\n",
    "This algorithm will have a set of vertex that will be linked together. The algorithm will have for mission to connect a subset of vertex which will correspond to the cities concerned by a delivery passing by the shortest way and while returning to its starting point.\n",
    "\n",
    "For our initial algorithm the problem is therefore :\n",
    "> What is the shortest cycle passing at least once through each vertex of the list L in G?"
   ]
  },
  {
   "cell_type": "markdown",
   "id": "22b8492d",
   "metadata": {},
   "source": [
    "Then, we will add some constraints:\n",
    "- Time limit for the delivery of each object \n",
    "    * with delivery forbidden if outside this window \n",
    "    * or waiting time for the window to open\n",
    "- Simultaneous delivery with k trucks.\n",
    "    * Capacity of the trucks (2 or 3 sizes) and the size of the objects\n",
    "    * Some objects can only be delivered by certain trucks\n",
    "- Each object has a specific collection location\n",
    "- Consideration of road traffic (travel time) by varying the length of the stops"
   ]
  },
  {
   "cell_type": "markdown",
   "id": "434bc801",
   "metadata": {},
   "source": [
    "## Study of the complexity of the problem"
   ]
  },
  {
   "cell_type": "markdown",
   "id": "075f94c7",
   "metadata": {},
   "source": [
    "### Problem 1 : Delivery rounds management"
   ]
  },
  {
   "cell_type": "markdown",
   "id": "ff1d2890",
   "metadata": {},
   "source": [
    "> __Delivery rounds management__\n",
    "> \n",
    "> Data: A complete graph G edge-valued, a list of vertexes L\n",
    "> \n",
    "> Question : What is the shortest cycle passing at least once through each vertex of the list L in G ?"
   ]
  },
  {
   "cell_type": "markdown",
   "id": "f3f5ac11",
   "metadata": {},
   "source": [
    "Here we will try to determine if the problem __Delivery rounds management__ is in __NP-Hard__. For that we will prove that its decision problem of __Delivery rounds management__ is in __NP-Complete__."
   ]
  },
  {
   "cell_type": "markdown",
   "id": "1eee6b6a",
   "metadata": {},
   "source": [
    "1. __Study of the decision problem__"
   ]
  },
  {
   "cell_type": "markdown",
   "id": "0af16fb9",
   "metadata": {},
   "source": [
    "First of all, we start by defining what our decision problem is:\n",
    "\n",
    "> __Verification of delivery rounds management__\n",
    "> \n",
    "> Data: A complete edge-valued graph G, a list of vertexes L, an integer k\n",
    "> \n",
    "> Question : Is there a cycle passing at least once through each vertex of the list L in G and whose sum of the values of the edges its maximum k ?"
   ]
  },
  {
   "attachments": {
    "graph-2.png": {
     "image/png": "[encoded data removed]"
    }
   },
   "cell_type": "markdown",
   "id": "671d1e59",
   "metadata": {},
   "source": [
    "![graph-2.png](attachment:graph-2.png)\n",
    "Example graph for the problem __Verification of delivery rounds management__."
   ]
  },
  {
   "cell_type": "code",
   "execution_count": 6,
   "id": "ae39c5b1",
   "metadata": {},
   "outputs": [],
   "source": [
    "V = (0, 1, 2, 3, 4)\n",
    "E = (\n",
    "    (0, 1, 1, 0, 0),\n",
    "    (1, 0, 0, 0, 1),\n",
    "    (1, 0, 0, 1, 1),\n",
    "    (0, 0, 1, 0, 1),\n",
    "    (0, 1, 1, 1, 0),\n",
    ")\n",
    "L = (0, 1, 2, 3, 4)\n",
    "Cycle = (0, 1, 4, 3, 2, 0)"
   ]
  },
  {
   "cell_type": "markdown",
   "id": "23042f22",
   "metadata": {},
   "source": [
    "Here we will try to determine if the problem __Verification of delivery rounds management__ is in __NP-Complete__. For that we will first prove that the verification of this problem is in __NP__, then we will prove that this problem is in __NP-Hard__."
   ]
  },
  {
   "cell_type": "markdown",
   "id": "85435770",
   "metadata": {},
   "source": [
    "The problem is in __NP__ because given a sequence of vertexes, we can check in polynomial time :"
   ]
  },
  {
   "cell_type": "markdown",
   "id": "71db7057",
   "metadata": {},
   "source": [
    "* That this sequence of vertexes is indeed a cycle (Complexity : O(N))."
   ]
  },
  {
   "cell_type": "code",
   "execution_count": 2,
   "id": "8cfa225d",
   "metadata": {},
   "outputs": [
    {
     "name": "stdout",
     "output_type": "stream",
     "text": [
      "This points follow a cycle\n"
     ]
    }
   ],
   "source": [
    "def Verification_Cycle(cycle): \n",
    "\n",
    "    for i in range(len(cycle)-1):\n",
    "        if cycle[i] == cycle[i+1]:\n",
    "            return False\n",
    "\n",
    "    if cycle[0] != cycle[len(cycle)-1]:\n",
    "        return False\n",
    "\n",
    "    return True\n",
    "\n",
    "Is_Cycle = Verification_Cycle(Cycle)\n",
    "\n",
    "if Is_Cycle:\n",
    "    print(\"This points follow a cycle\")\n",
    "else:\n",
    "    print(\"This points don't follow a cycle\")"
   ]
  },
  {
   "cell_type": "markdown",
   "id": "76150cc9",
   "metadata": {},
   "source": [
    "* That this sequence of vertexes passes at least once through each vertex of the list L (Complexity: O(N²))."
   ]
  },
  {
   "cell_type": "code",
   "execution_count": 9,
   "id": "133de977",
   "metadata": {
    "scrolled": true
   },
   "outputs": [
    {
     "name": "stdout",
     "output_type": "stream",
     "text": [
      "This cycle pass through all vertexes defined in the liste L at least once\n"
     ]
    }
   ],
   "source": [
    "def Verification_Vertex(cycle, L):\n",
    "    Remaining_Vertex = list(L)\n",
    "\n",
    "    for i in range(len(cycle)):\n",
    "        for j in range(len(Remaining_Vertex)):\n",
    "            if cycle[i] == Remaining_Vertex[j]:\n",
    "                Remaining_Vertex.pop(j)\n",
    "                break\n",
    "                \n",
    "    if len(Remaining_Vertex) != 0:\n",
    "        return False\n",
    "    \n",
    "    return True\n",
    "\n",
    "Pass_All_Vertex = Verification_Vertex(Cycle, L)\n",
    "\n",
    "if Pass_All_Vertex:\n",
    "    print(\"This cycle pass through all vertexes defined in the liste L at least once\")\n",
    "else:\n",
    "    print(\"This cycle don't pass through all vertexes defined in the liste L at least once\")"
   ]
  },
  {
   "cell_type": "markdown",
   "id": "acde3afe",
   "metadata": {},
   "source": [
    "* That the cost of the sequence is under k (Complexity: O(N))."
   ]
  },
  {
   "cell_type": "code",
   "execution_count": 6,
   "id": "6a44958d",
   "metadata": {},
   "outputs": [
    {
     "name": "stdout",
     "output_type": "stream",
     "text": [
      "Cycle cost is under k\n"
     ]
    }
   ],
   "source": [
    "def Verification_K(cycle, E, k):\n",
    "    sum_Edge = 0\n",
    "    \n",
    "    for i in range(len(cycle)-1):\n",
    "        sum_Edge += E[cycle[i]][cycle[i+1]]\n",
    "    \n",
    "    if sum_Edge < k:\n",
    "        return True\n",
    "    else:\n",
    "        return False\n",
    "    \n",
    "k = 6\n",
    "Its_Lower = Verification_K(Cycle, E, k)\n",
    "\n",
    "if Its_Lower:\n",
    "    print(\"Cycle cost is under k\")\n",
    "else:\n",
    "    print(\"Cycle cost is over k\")"
   ]
  },
  {
   "cell_type": "markdown",
   "id": "89c0f7d1",
   "metadata": {},
   "source": [
    "We will make a reduction from the __Hamiltonian Cycle__ problem. Since we know that the __Hamiltonian Cycle__ is __NP-Complete__, we will prove here that the __Verification of delivery round management__ is at least as difficult.\n",
    "\n",
    "To do so, we will find a way to transform, in polynomial time, an instance of __Hamiltonian Cycle__ into an instance of __Verification of delivery round management__, so that both instances admit the same answer."
   ]
  },
  {
   "attachments": {
    "graph2.png": {
     "image/png": "[encoded data removed]"
    }
   },
   "cell_type": "markdown",
   "id": "30146808",
   "metadata": {},
   "source": [
    "![graph2.png](attachment:graph2.png)\n",
    "\n",
    "Example graph for the problem __Verification of delivery round management__ and the __Hamiltonian Cycle__."
   ]
  },
  {
   "cell_type": "markdown",
   "id": "43320134",
   "metadata": {},
   "source": [
    "__Ihc__ is an instance of __Hamiltonian Cycle__, consisting of the graph G=(V,E)."
   ]
  },
  {
   "cell_type": "markdown",
   "id": "dca163db",
   "metadata": {},
   "source": [
    "__Ivdrm__ is an instance of __Verification of delivery round management__ defined by:\n",
    "* The edge-valued graph G '=(V, E(G )+E(G ̅), v : E(G )+E(G ̅) ↦ ℕ) with v(u)=1 ∀ u ∈ E(G ) and v(u)=2 ∀ u ∈ E(G ̅)\n",
    "* The list of vertexes L=V\n",
    "* The integer k=|V |-1"
   ]
  },
  {
   "cell_type": "markdown",
   "id": "32b5a602",
   "metadata": {},
   "source": [
    "The instance __Ihc__ is built in polynomial time: Finding all combinations of vertexes of L not present in G is done in O(|V |²)\n",
    "\n",
    "Suppose that there exists an algorithm solving the problem __Verification of delivery round management__ in polynomial time."
   ]
  },
  {
   "cell_type": "markdown",
   "id": "9ab2e758",
   "metadata": {},
   "source": [
    "By applying this algorithm on __Ivdrm__ :\n",
    "* Either we get the answer yes, the length of the cycle is less than k. In this case, we know that there is a Hamiltonian cycle in G. Indeed, the solution of __Ivdrm__ is a cycle of length |V |-1 by construction of __Ivdrm__. This cycle can only pass through edges of G, since those of G ̅ have cost 2, the length of this solution would be greater than |V |-1. Moreover, this solution passes only once through each vertex, since otherwise its length would be greater than |V |-1. Furthermore, since each vertex of G is in the list L and this cycle passes through each vertex of G, then this cycle passes through all the vertexes of the list L. This cycle is therefore a Hamiltonian cycle in G, so the answer to __Ihc__ is yes.\n",
    "* Symmetrically, if the answer is no, we deduce that there is no Hamiltonian cycle in G, because otherwise it would constitute a solution to __Ivdrm__ and the answer would be yes."
   ]
  },
  {
   "cell_type": "markdown",
   "id": "5a3f4be7",
   "metadata": {},
   "source": [
    "Thus, we can do a polynomial reduction from the __Hamiltonian Cycle__ to the __Verification of delivery round management__, which proves that __Verification of delivery round management__ is at least as difficult as __Hamiltonian Cycle__. And since we know that __Hamiltonian Cycle__ is in __NP-Complete__, then we can determine that __Delivery Route Management Verification__ is in __NP-Hard__.\n",
    "\n",
    "Finally as __Verification of delivery round management__ is in both __NP__ and __NP-Hard__, we can conclude that it is at the union of both sets. So __Verification of delivery round management__ is in __NP-Complete__."
   ]
  },
  {
   "cell_type": "markdown",
   "id": "7144ac93",
   "metadata": {},
   "source": [
    "2. __Conclusion__"
   ]
  },
  {
   "cell_type": "markdown",
   "id": "dd736a26",
   "metadata": {},
   "source": [
    "We have seen that the verification of our problem is not solvable in polynomial time. We can therefore deduce that __Delivery rounds management__ is not solvable in polynomial time, and therefore is in __NP-Hard__."
   ]
  },
  {
   "cell_type": "markdown",
   "id": "c6fc5b40",
   "metadata": {},
   "source": [
    "### Problem 2 : Delivery rounds management with variable edge"
   ]
  },
  {
   "cell_type": "markdown",
   "id": "aa335324",
   "metadata": {},
   "source": [
    "> __Delivery rounds management with variable edge__\n",
    "> \n",
    "> Data: A complete graph G edge-valued, a list of vertexes L\n",
    "> \n",
    "> Question: What is the shortest cycle passing through at least all vertexes of the list L in G ?"
   ]
  },
  {
   "cell_type": "markdown",
   "id": "1bd18f7c",
   "metadata": {},
   "source": [
    "Here we will try to determine if the problem __Delivery rounds management with variable edges__ is in __NP-Hard__. For that we will prove that its decision problem of __Delivery rounds management with variable edge__ is in __NP-Complete__."
   ]
  },
  {
   "cell_type": "markdown",
   "id": "481c42bc",
   "metadata": {},
   "source": [
    "1. __Study of the decision problem__"
   ]
  },
  {
   "cell_type": "markdown",
   "id": "9da44add",
   "metadata": {},
   "source": [
    "First of all, we start by defining what our decision problem is:\n",
    "\n",
    "> __Verification of Delivery rounds management with variable edges__\n",
    "> \n",
    "> Data: A complete edge-valued graph G, a list of vertexes L, an integer k\n",
    "> \n",
    "> Question: Is there a cycle passing at least through each vertexes of the list L in G where the sum of the values of the edges is under k?"
   ]
  },
  {
   "attachments": {
    "grapheEdgeVariable.png": {
     "image/png": "[encoded data removed]"
    }
   },
   "cell_type": "markdown",
   "id": "96eeb370",
   "metadata": {},
   "source": [
    "![grapheEdgeVariable.png](attachment:grapheEdgeVariable.png)\n",
    "\n",
    "Example graph for the problem __Verification of delivery rounds management with variable edge__."
   ]
  },
  {
   "cell_type": "code",
   "execution_count": 1,
   "id": "c57815c3",
   "metadata": {},
   "outputs": [],
   "source": [
    "V = (0, 1, 2, 3, 4)\n",
    "E = (\n",
    "    (0, (1,2), (2,3), 0, 0),\n",
    "    ((1,2), 0, 0, 0, (1,3)),\n",
    "    ((2,3), 0, 0, (2,4), (1,4)),\n",
    "    (0, 0, (2,4), 0, (3,4)),\n",
    "    (0, (1,3), (1,4), (3,4), 0),\n",
    ")\n",
    "L = (0, 1, 2, 3, 4)\n",
    "Cycle = (0, 1, 4, 3, 2, 0)"
   ]
  },
  {
   "cell_type": "markdown",
   "id": "fd405d45",
   "metadata": {},
   "source": [
    "Here we will try to determine if the problem __Verification of Delivery rounds management with variable edges__ is in __NP-Complete__. For that we will first prove that the verification of this problem is in __NP__, then we will prove that this problem is in __NP-Hard__."
   ]
  },
  {
   "cell_type": "markdown",
   "id": "bae724b2",
   "metadata": {},
   "source": [
    "The problem is in __NP__ because given a sequence of vertexes, we can check in polynomial time :"
   ]
  },
  {
   "cell_type": "markdown",
   "id": "f9c181cb",
   "metadata": {},
   "source": [
    "* That this sequence of vertexes is indeed a cycle (Complexity : O(N))."
   ]
  },
  {
   "cell_type": "code",
   "execution_count": 2,
   "id": "ffc1178a",
   "metadata": {},
   "outputs": [
    {
     "name": "stdout",
     "output_type": "stream",
     "text": [
      "This points follow a cycle\n"
     ]
    }
   ],
   "source": [
    "def Verification_Cycle(cycle): \n",
    "\n",
    "    for i in range(len(cycle)-1):\n",
    "        if cycle[i] == cycle[i+1]:\n",
    "            return False\n",
    "\n",
    "    if cycle[0] != cycle[len(cycle)-1]:\n",
    "        return False\n",
    "\n",
    "    return True\n",
    "\n",
    "Is_Cycle = Verification_Cycle(Cycle)\n",
    "\n",
    "if Is_Cycle:\n",
    "    print(\"This points follow a cycle\")\n",
    "else:\n",
    "    print(\"This points don't follow a cycle\")"
   ]
  },
  {
   "cell_type": "markdown",
   "id": "f9da3469",
   "metadata": {},
   "source": [
    "* That this sequence of vertexes passes at least once through each vertex of the list L (Complexity: O(N²))."
   ]
  },
  {
   "cell_type": "code",
   "execution_count": 9,
   "id": "ee5b6f57",
   "metadata": {
    "scrolled": true
   },
   "outputs": [
    {
     "name": "stdout",
     "output_type": "stream",
     "text": [
      "This cycle pass through all vertexes defined in the liste L at least once\n"
     ]
    }
   ],
   "source": [
    "def Verification_Vertex(cycle, L):\n",
    "    Remaining_Vertex = list(L)\n",
    "\n",
    "    for i in range(len(cycle)):\n",
    "        for j in range(len(Remaining_Vertex)):\n",
    "            if cycle[i] == Remaining_Vertex[j]:\n",
    "                Remaining_Vertex.pop(j)\n",
    "                break\n",
    "                \n",
    "    if len(Remaining_Vertex) != 0:\n",
    "        return False\n",
    "    \n",
    "    return True\n",
    "\n",
    "Pass_All_Vertex = Verification_Vertex(Cycle, L)\n",
    "\n",
    "if Pass_All_Vertex:\n",
    "    print(\"This cycle pass through all vertexes defined in the liste L at least once\")\n",
    "else:\n",
    "    print(\"This cycle don't pass through all vertexes defined in the liste L at least once\")"
   ]
  },
  {
   "cell_type": "markdown",
   "id": "c3f0a5d4",
   "metadata": {},
   "source": [
    "* That the cost of the sequence is under k (Complexity: O(N))."
   ]
  },
  {
   "cell_type": "code",
   "execution_count": 2,
   "id": "0ea609ca",
   "metadata": {},
   "outputs": [
    {
     "name": "stdout",
     "output_type": "stream",
     "text": [
      "Cycle cost is under k\n"
     ]
    }
   ],
   "source": [
    "def Verification_K(cycle, E, k):\n",
    "    sum_Edge = 0\n",
    "    p = 0\n",
    "    for i in range(len(cycle)-1):\n",
    "        sum_Edge += E[cycle[i]][cycle[i+1]][p % 2]\n",
    "        p = (p + E[cycle[i]][cycle[i+1]][p%2] )\n",
    "    \n",
    "    if sum_Edge < k:\n",
    "        return True\n",
    "    else:\n",
    "        return False\n",
    "    \n",
    "k = 15\n",
    "Its_Lower = Verification_K(Cycle, E, k)\n",
    "\n",
    "if Its_Lower:\n",
    "    print(\"Cycle cost is under k\")\n",
    "else:\n",
    "    print(\"Cycle cost is over k\")"
   ]
  },
  {
   "cell_type": "markdown",
   "id": "4c243b09",
   "metadata": {},
   "source": [
    "We will make a reduction from the __Delivery rounds management__ problem. Since we know that the __Delivery rounds management__ is __NP-Complete__, we will prove here that the __Verification of Delivery rounds management with variable edges__ is at least as difficult.\n",
    "\n",
    "To do so, we will find a way to transform, in polynomial time, an instance of __Delivery rounds management__ into an instance of __Verification of Delivery rounds management with variable edges__, so that both instances admit the same answer."
   ]
  },
  {
   "attachments": {
    "grapheEdgeVariable2.png": {
     "image/png": "[encoded data removed]"
    }
   },
   "cell_type": "markdown",
   "id": "8b6923c0",
   "metadata": {},
   "source": [
    "![grapheEdgeVariable2.png](attachment:grapheEdgeVariable2.png)\n",
    "\n",
    "\n",
    "Example graph for the problem __Verification of Delivery rounds management with variable edges__ and the __Delivery rounds management__."
   ]
  },
  {
   "cell_type": "markdown",
   "id": "2b7690b3",
   "metadata": {},
   "source": [
    "__Idrm__ is an instance of __Delivery rounds management__, consisting of the graph G=(V,E)."
   ]
  },
  {
   "cell_type": "markdown",
   "id": "11042363",
   "metadata": {},
   "source": [
    "__Ivdrmve__ is an instance of __Verification of Delivery rounds management with variable edges__ defined by:\n",
    "* The edge-valued graph G '=(V, E(G )+E(G ̅), v : E(G )+E(G ̅) ↦ ℕ) with v(u)={1,1} ∀ u ∈ E(G ) and v(u)={2,2} ∀ u ∈ E(G ̅)\n",
    "* The list of vertexes L=V\n",
    "* The integer k=|V |-1"
   ]
  },
  {
   "cell_type": "markdown",
   "id": "0127a318",
   "metadata": {},
   "source": [
    "The instance __Idrm__ is built in polynomial time: Finding all combinations of vertexes of L not present in G is done in O(|V |²)\n",
    "\n",
    "Suppose that there exists an algorithm solving the problem __Verification of Delivery rounds management with variable edges__ in polynomial time."
   ]
  },
  {
   "cell_type": "markdown",
   "id": "0a13a5ed",
   "metadata": {},
   "source": [
    "By applying this algorithm on __Ivdrmve__ :\n",
    "* Either we get the answer yes, the length of the cycle is less than k. In this case, we know that there is a Hamiltonian cycle in G. Indeed, the solution of __Ivdrmve__ is a cycle of length |V |-1 by construction of __Ivdrmve__. This cycle can only pass through edges of G, since those of G ̅ have cost {2,2}, the length of this solution would be greater than |V |-1. Moreover, this solution passes only once through each vertex, since otherwise its length would be greater than |V |-1. Furthermore, since each vertex of G is in the list L and this cycle passes through each vertex of G, then this cycle passes through all the vertexes of the list L. This cycle is therefore a Hamiltonian cycle in G, so the answer to __Idrm__ is yes.\n",
    "* Symmetrically, if the answer is no, we deduce that there is no Hamiltonian cycle in G, because otherwise it would constitute a solution to __Ivdrmve__ and the answer would be yes."
   ]
  },
  {
   "cell_type": "markdown",
   "id": "7623c0f9",
   "metadata": {},
   "source": [
    "Thus, we can do a polynomial reduction from the __Delivery rounds management__ to the __Verification of Delivery rounds management with variable edges__, which proves that __Verification of Delivery rounds management with variable edges__ is at least as difficult as __Delivery rounds management__. And since we know that __Delivery rounds management__ is in __NP-Complete__, then we can determine that __Delivery Route Management Verification__ is in __NP-Hard__.\n",
    "\n",
    "Finally as __Verification of Delivery rounds management with variable edges__ is in both __NP__ and __NP-Hard__, we can conclude that it is at the union of both sets. So __Verification of Delivery rounds management with variable edges__ is in __NP-Complete__."
   ]
  },
  {
   "cell_type": "markdown",
   "id": "0bebe310",
   "metadata": {},
   "source": [
    "2. __Conclusion__"
   ]
  },
  {
   "cell_type": "markdown",
   "id": "79445834",
   "metadata": {},
   "source": [
    "We have seen that the verification of our problem is not solvable in polynomial time. We can therefore deduce that __Delivery rounds management with variable edges__ is not solvable in polynomial time, and therefore is in __NP-Hard__."
   ]
  },
  {
   "cell_type": "markdown",
   "id": "381d0c1b",
   "metadata": {},
   "source": [
    "## Formal presentation of data"
   ]
  },
  {
   "cell_type": "markdown",
   "id": "4c4ad48a",
   "metadata": {},
   "source": [
    "For representing graph in our algorithm we are going to use an adjacency matrix, but not a normal one. For creating our graph, we decide to ban loop and multiple edges between two points, because went you seach the shortest path between two points a loop will always add useless length, and between multipule path we will always pick the shortest. \n",
    "\n",
    "So because of this simplification, insted of counting the number of connection between vertexes (because it will always be 1) inside the matrix, we will put the weight of this connection. And when there is no connections, the value will be 0."
   ]
  },
  {
   "attachments": {
    "matrix.png": {
     "image/png": "[encoded data removed]"
    }
   },
   "cell_type": "markdown",
   "id": "211767e8",
   "metadata": {},
   "source": [
    "![matrix.png](attachment:matrix.png)\n",
    "Exemple Graph"
   ]
  },
  {
   "cell_type": "markdown",
   "id": "1f29a906",
   "metadata": {},
   "source": [
    "So the matrix will look like this for this exemple graph."
   ]
  },
  {
   "cell_type": "code",
   "execution_count": 10,
   "id": "aa0a21e9",
   "metadata": {},
   "outputs": [],
   "source": [
    "matrix = (\n",
    "    (0, 2, 0, 0, 0, 0, 3),\n",
    "    (2, 0, 4, 1, 0, 0, 2),\n",
    "    (0, 4, 0, 3, 4, 0, 0),\n",
    "    (0, 1, 3, 0, 3, 5, 1),\n",
    "    (0, 1, 5, 3, 0, 1, 2),\n",
    "    (0, 0, 0, 5, 1, 0, 1),\n",
    "    (3, 2, 0, 1, 2, 5, 0),\n",
    ")"
   ]
  },
  {
   "cell_type": "markdown",
   "id": "8c12d61e",
   "metadata": {},
   "source": [
    "## Operational research"
   ]
  },
  {
   "cell_type": "markdown",
   "id": "a9357173",
   "metadata": {},
   "source": [
    "### Problem modeling"
   ]
  },
  {
   "cell_type": "markdown",
   "id": "437338b4",
   "metadata": {},
   "source": [
    "1. __Program decision variables__"
   ]
  },
  {
   "cell_type": "markdown",
   "id": "a1e52c26",
   "metadata": {},
   "source": [
    "Given that the Hamiltonian cycle is described by $N²$ variable $X_{i,R}$, where :\n",
    "- $i$ = the vertex\n",
    "- $R$ = the rank of the vertex in a cycle.\n",
    "The decision variable $P$ has a state equal to 1 if the truck takes the road on node $i$ at rank $R$."
   ]
  },
  {
   "cell_type": "markdown",
   "id": "1ab56f39",
   "metadata": {},
   "source": [
    "Thus program decision variable is :\n",
    "    \n",
    " $$X_{i,R} \\text {: State matrix} $$\n",
    " \n",
    "This matrix will allow us to know where the truck passed previously and what will be its next stop."
   ]
  },
  {
   "attachments": {
    "ro.png": {
     "image/png": "[encoded data removed]"
    }
   },
   "cell_type": "markdown",
   "id": "45efea2d",
   "metadata": {},
   "source": [
    "![ro.png](attachment:ro.png)\n",
    "Exemple graph"
   ]
  },
  {
   "cell_type": "markdown",
   "id": "717f0c04",
   "metadata": {},
   "source": [
    "Exemple of state matrix for the graph above:\n",
    "\n",
    "| i \\ P | 1 | 2 | 3 | 4 | 5 | 6 |\n",
    "|-------|---|---|---|---|---|---|\n",
    "|   A   | 1 | 0 | 0 | 0 | 0 | 1 |\n",
    "|   B   | 0 | 1 | 0 | 0 | 0 | 0 |\n",
    "|   C   | 0 | 0 | 0 | 0 | 1 | 0 |\n",
    "|   D   | 0 | 0 | 0 | 1 | 0 | 0 |\n",
    "|   E   | 0 | 0 | 1 | 0 | 0 | 0 |"
   ]
  },
  {
   "cell_type": "markdown",
   "id": "fa761b5b",
   "metadata": {},
   "source": [
    "2. __Objective function__"
   ]
  },
  {
   "cell_type": "markdown",
   "id": "2a6d87da",
   "metadata": {},
   "source": [
    "With our objective function we try to minimize the travel time for our deliveries. For this we multiply the sum of our weight matrix to our state matrix."
   ]
  },
  {
   "cell_type": "markdown",
   "id": "86d3c825",
   "metadata": {},
   "source": [
    "The objective function is:\n",
    "    $$Min: \\sum_{n=1,m=1}^{i,j} M_{n,m} X_{n,m} $$ "
   ]
  },
  {
   "cell_type": "markdown",
   "id": "4d5a7e6c",
   "metadata": {},
   "source": [
    "3. __Program Constraints__"
   ]
  },
  {
   "cell_type": "markdown",
   "id": "185d1c5c",
   "metadata": {},
   "source": [
    "In our situation, we have to follow several constraints. \n",
    "- The delivery truck can only be at one location at a time, the sum of the states per column of $X_{i,R}$ is therefore always equal to 1. \n",
    "- The truck must pass through a city at least once.\n",
    "- The truck must use an existing road\n",
    "- The delivery round must end where it started\n",
    "- The state matrix has only 2 possible values 1 or 0\n",
    "- Matrix weights are varing depending of the time frame"
   ]
  },
  {
   "cell_type": "markdown",
   "id": "bc5be4b7",
   "metadata": {},
   "source": [
    "The mathematical representation of these constraints is the following:\n",
    "\n",
    "$$C.S:\\left\\{\n",
    "    \\begin{array}{ll}\n",
    "        \\text{ We go through each vertice once and only once } \\\\\n",
    "        \\text{ The state matrice is binary (only made of 0 and 1) } \\\\\n",
    "    \\end{array}\n",
    "\\right.$$\n",
    "That can be written as :\n",
    "    $$C.S:\\left\\{\n",
    "    \\begin{array}{ll}\n",
    "        \\prod_{n=1}^i \\sum_{m=1}^j X_{n,m} = 1  \\\\\n",
    "        X_{c,p} \\in \\{0,1\\} \\text{ } \\forall \\text{ } c \\in [1,i] \\land p \\in [1,P]  \\\\\n",
    "    \\end{array}\n",
    "\\right.$$\n",
    "\n",
    "With : \n",
    "$$\n",
    "i:\\text{ The vertex}\\\\\n",
    "P:\\text{ Solution state number}\\\\\n",
    "i = j \\\\\n",
    "M_{ij} :\\text{ Weight matrix of the situation (see in formal presentation of data)}\n",
    "$$"
   ]
  },
  {
   "cell_type": "markdown",
   "id": "563bdcf3",
   "metadata": {},
   "source": [
    "## Bibliography"
   ]
  },
  {
   "cell_type": "markdown",
   "id": "c4e343b5",
   "metadata": {},
   "source": [
    "### Complexity"
   ]
  },
  {
   "cell_type": "markdown",
   "id": "4a896de7",
   "metadata": {},
   "source": [
    "- https://fr.wikipedia.org/wiki/NP_(complexit%C3%A9)\n",
    "- https://www.labri.fr/perso/betrema/MC/MC8.html\n",
    "- https://fr.wikipedia.org/wiki/Probl%C3%A8me_du_voyageur_de_commerce\n",
    "- https://fr.wikipedia.org/wiki/Graphe_hamiltonien\n",
    "- https://www.fil.univ-lille.fr/~tison/AAC/C17/C10.pdf\n",
    "- http://www.lix.polytechnique.fr/~bournez/cours/CoursDEAComplexite/00-N-Motivation-Theorie-Complexite.pdf"
   ]
  },
  {
   "cell_type": "markdown",
   "id": "8c272690",
   "metadata": {},
   "source": [
    "### Data modelisation"
   ]
  },
  {
   "cell_type": "markdown",
   "id": "26f94063",
   "metadata": {},
   "source": [
    "- https://fr.wikipedia.org/wiki/Matrice_d%27adjacence\n",
    "- https://www.pairform.fr/doc/1/32/180/web/co/Liste.html\n",
    "- https://fr.wikipedia.org/wiki/Liste_d%27adjacence"
   ]
  },
  {
   "cell_type": "markdown",
   "id": "329ca2cf",
   "metadata": {},
   "source": [
    "### Operational research"
   ]
  },
  {
   "cell_type": "markdown",
   "id": "78fe423c",
   "metadata": {},
   "source": [
    "- http://www.sietmanagement.fr/decision-mathematique-la-rationalite-calculatoire-recherche-operationnelle-apprentissage-automatique\n",
    "- https://educnet.enpc.fr/file.php/297/CoursROPonts.pdf\n",
    "- https://qiskit.org/documentation/stable/0.24/locale/fr_FR/tutorials/optimization/6_examples_max_cut_and_tsp.html\n",
    "- https://www.iro.umontreal.ca/~bastin/Cours/IFT1575/IFT1575.pdf\n",
    "- http://ressources.aunege.fr/nuxeo/site/esupversions/2b1c56b6-109d-488a-94a3-3ea525f8beef/ModAidDec/cours/l7/l7.pdf\n",
    "- https://fr.wikipedia.org/wiki/Recherche_op%C3%A9rationnelle\n",
    "- https://fr.wikipedia.org/wiki/Fonction_objectif?tableofcontents=0\n"
   ]
  }
 ],
 "metadata": {
  "interpreter": {
   "hash": "7f1f8ce21646b000042b002f1e6b4bc353bfed33ad1fcf79951c0bf77801bbf4"
  },
  "kernelspec": {
   "display_name": "Python 3 (ipykernel)",
   "language": "python",
   "name": "python3"
  },
  "language_info": {
   "codemirror_mode": {
    "name": "ipython",
    "version": 3
   },
   "file_extension": ".py",
   "mimetype": "text/x-python",
   "name": "python",
   "nbconvert_exporter": "python",
   "pygments_lexer": "ipython3",
   "version": "3.10.5"
  }
 },
 "nbformat": 4,
 "nbformat_minor": 5
}
